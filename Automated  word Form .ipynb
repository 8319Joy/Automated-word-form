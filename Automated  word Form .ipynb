{
 "cells": [
  {
   "cell_type": "raw",
   "id": "2054dd8c",
   "metadata": {},
   "source": [
    "you can create a form in a Word file using Python. To generate a form for an admission process into a Fullstack Development course in Python, you can use the python-docx library. This library allows you to create and modify Word documents programmatically. Here's how you can do it:"
   ]
  },
  {
   "cell_type": "markdown",
   "id": "d7388309",
   "metadata": {},
   "source": [
    "# Install python-docx:"
   ]
  },
  {
   "cell_type": "code",
   "execution_count": 1,
   "id": "410b0033",
   "metadata": {},
   "outputs": [
    {
     "name": "stdout",
     "output_type": "stream",
     "text": [
      "Defaulting to user installation because normal site-packages is not writeableNote: you may need to restart the kernel to use updated packages.\n",
      "\n",
      "Collecting python-docx\n",
      "  Obtaining dependency information for python-docx from https://files.pythonhosted.org/packages/3e/3d/330d9efbdb816d3f60bf2ad92f05e1708e4a1b9abe80461ac3444c83f749/python_docx-1.1.2-py3-none-any.whl.metadata\n",
      "  Downloading python_docx-1.1.2-py3-none-any.whl.metadata (2.0 kB)\n",
      "Requirement already satisfied: lxml>=3.1.0 in c:\\programdata\\anaconda3\\lib\\site-packages (from python-docx) (4.9.2)\n",
      "Collecting typing-extensions>=4.9.0 (from python-docx)\n",
      "  Obtaining dependency information for typing-extensions>=4.9.0 from https://files.pythonhosted.org/packages/26/9f/ad63fc0248c5379346306f8668cda6e2e2e9c95e01216d2b8ffd9ff037d0/typing_extensions-4.12.2-py3-none-any.whl.metadata\n",
      "  Downloading typing_extensions-4.12.2-py3-none-any.whl.metadata (3.0 kB)\n",
      "Downloading python_docx-1.1.2-py3-none-any.whl (244 kB)\n",
      "   ---------------------------------------- 0.0/244.3 kB ? eta -:--:--\n",
      "   ------------- -------------------------- 81.9/244.3 kB 2.3 MB/s eta 0:00:01\n",
      "   ---------------------------------------- 244.3/244.3 kB 3.0 MB/s eta 0:00:00\n",
      "Downloading typing_extensions-4.12.2-py3-none-any.whl (37 kB)\n",
      "Installing collected packages: typing-extensions, python-docx\n",
      "Successfully installed python-docx-1.1.2 typing-extensions-4.12.2\n"
     ]
    }
   ],
   "source": [
    "pip install python-docx\n"
   ]
  },
  {
   "cell_type": "markdown",
   "id": "31696315",
   "metadata": {},
   "source": [
    "# Use the following Python code to create a basic admission form for Fullstack Development in Python:"
   ]
  },
  {
   "cell_type": "code",
   "execution_count": 3,
   "id": "c7ee990d",
   "metadata": {},
   "outputs": [],
   "source": [
    "from docx import Document\n",
    "from docx.shared import Pt\n",
    "\n",
    "def create_admission_form():\n",
    "    # Create a new Document\n",
    "    doc = Document()\n",
    "\n",
    "    # Add a title\n",
    "    doc.add_heading('Admission Form for Fullstack Development in Python', 0)\n",
    "\n",
    "    # Add applicant's information fields\n",
    "    doc.add_paragraph('Name of Applicant:')\n",
    "    doc.add_paragraph('Date of Birth:')\n",
    "    doc.add_paragraph('Email:')\n",
    "    doc.add_paragraph('Phone Number:')\n",
    "\n",
    "    # Add educational background fields\n",
    "    doc.add_heading('Educational Background', level=1)\n",
    "    doc.add_paragraph('Highest Degree Obtained:')\n",
    "    doc.add_paragraph('University/College:')\n",
    "    doc.add_paragraph('Year of Graduation:')\n",
    "\n",
    "    # Add course-specific information\n",
    "    doc.add_heading('Course Information', level=1)\n",
    "    doc.add_paragraph('Preferred Start Date:')\n",
    "    doc.add_paragraph('Prior Programming Experience (if any):')\n",
    "\n",
    "    # Save the document\n",
    "    doc.save('Admission_Form_Fullstack_Development.docx')\n",
    "\n",
    "if __name__ == \"__main__\":\n",
    "    create_admission_form()\n"
   ]
  },
  {
   "cell_type": "raw",
   "id": "57c58805",
   "metadata": {},
   "source": [
    "Explanation:\n",
    "The script creates a new Word document and adds headings and form fields like \"Name of Applicant\", \"Email\", \"Phone Number\", etc.You can easily add more fields or format the document as needed.\n",
    "The resulting Word file will be saved as Admission_Form_Fullstack_Development.docx in the current directory.\n",
    "This is a basic template, and you can extend it with more formatting, such as bold or italic text, spacing, or even tables for more complex forms."
   ]
  },
  {
   "cell_type": "code",
   "execution_count": 8,
   "id": "aeda1de9",
   "metadata": {},
   "outputs": [],
   "source": [
    "file_path = 'C:\\\\Users\\\\PURNANGSHU ROY\\\\OneDrive\\\\Desktop\\\\Data\\\\Admission_Form_Fullstack_Development.docx'\n",
    "\n"
   ]
  },
  {
   "cell_type": "code",
   "execution_count": 9,
   "id": "ab855569",
   "metadata": {},
   "outputs": [
    {
     "name": "stdout",
     "output_type": "stream",
     "text": [
      "File saved at: C:\\Users\\PURNANGSHU ROY\\OneDrive\\Desktop\\Data\\Admission_Form_Fullstack_Development.docx\n"
     ]
    }
   ],
   "source": [
    "from docx import Document\n",
    "\n",
    "def create_admission_form():\n",
    "    # Create a new Document\n",
    "    doc = Document()\n",
    "\n",
    "    # Add a title\n",
    "    doc.add_heading('Admission Form for Fullstack Development in Python', 0)\n",
    "\n",
    "    # Add applicant's information fields\n",
    "    doc.add_paragraph('Name of Applicant:')\n",
    "    doc.add_paragraph('Date of Birth:')\n",
    "    doc.add_paragraph('Email:')\n",
    "    doc.add_paragraph('Phone Number:')\n",
    "\n",
    "    # Add educational background fields\n",
    "    doc.add_heading('Educational Background', level=1)\n",
    "    doc.add_paragraph('Highest Degree Obtained:')\n",
    "    doc.add_paragraph('University/College:')\n",
    "    doc.add_paragraph('Year of Graduation:')\n",
    "\n",
    "    # Add course-specific information\n",
    "    doc.add_heading('Course Information', level=1)\n",
    "    doc.add_paragraph('Preferred Start Date:')\n",
    "    doc.add_paragraph('Prior Programming Experience (if any):')\n",
    "\n",
    "    # Save the document\n",
    "    file_path = r'C:\\Users\\PURNANGSHU ROY\\OneDrive\\Desktop\\Data\\Admission_Form_Fullstack_Development.docx'\n",
    "    doc.save(file_path)\n",
    "    return file_path\n",
    "\n",
    "# Create and save the Word file\n",
    "file_path = create_admission_form()\n",
    "print(f\"File saved at: {file_path}\")\n"
   ]
  },
  {
   "cell_type": "code",
   "execution_count": null,
   "id": "fc0a85ad",
   "metadata": {},
   "outputs": [],
   "source": []
  }
 ],
 "metadata": {
  "kernelspec": {
   "display_name": "Python 3 (ipykernel)",
   "language": "python",
   "name": "python3"
  },
  "language_info": {
   "codemirror_mode": {
    "name": "ipython",
    "version": 3
   },
   "file_extension": ".py",
   "mimetype": "text/x-python",
   "name": "python",
   "nbconvert_exporter": "python",
   "pygments_lexer": "ipython3",
   "version": "3.11.4"
  }
 },
 "nbformat": 4,
 "nbformat_minor": 5
}
